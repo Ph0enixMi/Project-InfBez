{
 "cells": [
  {
   "cell_type": "code",
   "execution_count": 1,
   "metadata": {},
   "outputs": [],
   "source": [
    "import numpy as np\n",
    "import pandas as pd\n",
    "\n",
    "from sklearn.neighbors import KNeighborsClassifier\n",
    "from sklearn.preprocessing import StandardScaler, LabelEncoder\n",
    "\n",
    "from data import Dataset"
   ]
  },
  {
   "cell_type": "code",
   "execution_count": 2,
   "metadata": {},
   "outputs": [],
   "source": [
    "data = Dataset()"
   ]
  },
  {
   "cell_type": "code",
   "execution_count": 7,
   "metadata": {},
   "outputs": [
    {
     "name": "stdout",
     "output_type": "stream",
     "text": [
      "        Diabetes_012  HighBP  HighChol  CholCheck   BMI  Smoker  Stroke  \\\n",
      "0                0.0     1.0       1.0        1.0  40.0     1.0     0.0   \n",
      "1                0.0     0.0       0.0        0.0  25.0     1.0     0.0   \n",
      "2                0.0     1.0       1.0        1.0  28.0     0.0     0.0   \n",
      "3                0.0     1.0       0.0        1.0  27.0     0.0     0.0   \n",
      "4                0.0     1.0       1.0        1.0  24.0     0.0     0.0   \n",
      "...              ...     ...       ...        ...   ...     ...     ...   \n",
      "253675           0.0     1.0       1.0        1.0  45.0     0.0     0.0   \n",
      "253676           2.0     1.0       1.0        1.0  18.0     0.0     0.0   \n",
      "253677           0.0     0.0       0.0        1.0  28.0     0.0     0.0   \n",
      "253678           0.0     1.0       0.0        1.0  23.0     0.0     0.0   \n",
      "253679           2.0     1.0       1.0        1.0  25.0     0.0     0.0   \n",
      "\n",
      "        HeartDiseaseorAttack  PhysActivity  Fruits  ...  AnyHealthcare  \\\n",
      "0                        0.0           0.0     0.0  ...            1.0   \n",
      "1                        0.0           1.0     0.0  ...            0.0   \n",
      "2                        0.0           0.0     1.0  ...            1.0   \n",
      "3                        0.0           1.0     1.0  ...            1.0   \n",
      "4                        0.0           1.0     1.0  ...            1.0   \n",
      "...                      ...           ...     ...  ...            ...   \n",
      "253675                   0.0           0.0     1.0  ...            1.0   \n",
      "253676                   0.0           0.0     0.0  ...            1.0   \n",
      "253677                   0.0           1.0     1.0  ...            1.0   \n",
      "253678                   0.0           0.0     1.0  ...            1.0   \n",
      "253679                   1.0           1.0     1.0  ...            1.0   \n",
      "\n",
      "        NoDocbcCost  GenHlth  MentHlth  PhysHlth  DiffWalk  Sex   Age  \\\n",
      "0               0.0      5.0      18.0      15.0       1.0  0.0   9.0   \n",
      "1               1.0      3.0       0.0       0.0       0.0  0.0   7.0   \n",
      "2               1.0      5.0      30.0      30.0       1.0  0.0   9.0   \n",
      "3               0.0      2.0       0.0       0.0       0.0  0.0  11.0   \n",
      "4               0.0      2.0       3.0       0.0       0.0  0.0  11.0   \n",
      "...             ...      ...       ...       ...       ...  ...   ...   \n",
      "253675          0.0      3.0       0.0       5.0       0.0  1.0   5.0   \n",
      "253676          0.0      4.0       0.0       0.0       1.0  0.0  11.0   \n",
      "253677          0.0      1.0       0.0       0.0       0.0  0.0   2.0   \n",
      "253678          0.0      3.0       0.0       0.0       0.0  1.0   7.0   \n",
      "253679          0.0      2.0       0.0       0.0       0.0  0.0   9.0   \n",
      "\n",
      "        Education  Income  \n",
      "0             4.0     3.0  \n",
      "1             6.0     1.0  \n",
      "2             4.0     8.0  \n",
      "3             3.0     6.0  \n",
      "4             5.0     4.0  \n",
      "...           ...     ...  \n",
      "253675        6.0     7.0  \n",
      "253676        2.0     4.0  \n",
      "253677        5.0     2.0  \n",
      "253678        5.0     1.0  \n",
      "253679        6.0     2.0  \n",
      "\n",
      "[253680 rows x 22 columns]\n"
     ]
    }
   ],
   "source": [
    "print(data.df)"
   ]
  },
  {
   "cell_type": "code",
   "execution_count": 4,
   "metadata": {},
   "outputs": [
    {
     "name": "stdout",
     "output_type": "stream",
     "text": [
      "<class 'pandas.core.frame.DataFrame'>\n",
      "RangeIndex: 253680 entries, 0 to 253679\n",
      "Data columns (total 22 columns):\n",
      " #   Column                Non-Null Count   Dtype  \n",
      "---  ------                --------------   -----  \n",
      " 0   Diabetes_012          253680 non-null  float64\n",
      " 1   HighBP                253680 non-null  float64\n",
      " 2   HighChol              253680 non-null  float64\n",
      " 3   CholCheck             253680 non-null  float64\n",
      " 4   BMI                   253680 non-null  float64\n",
      " 5   Smoker                253680 non-null  float64\n",
      " 6   Stroke                253680 non-null  float64\n",
      " 7   HeartDiseaseorAttack  253680 non-null  float64\n",
      " 8   PhysActivity          253680 non-null  float64\n",
      " 9   Fruits                253680 non-null  float64\n",
      " 10  Veggies               253680 non-null  float64\n",
      " 11  HvyAlcoholConsump     253680 non-null  float64\n",
      " 12  AnyHealthcare         253680 non-null  float64\n",
      " 13  NoDocbcCost           253680 non-null  float64\n",
      " 14  GenHlth               253680 non-null  float64\n",
      " 15  MentHlth              253680 non-null  float64\n",
      " 16  PhysHlth              253680 non-null  float64\n",
      " 17  DiffWalk              253680 non-null  float64\n",
      " 18  Sex                   253680 non-null  float64\n",
      " 19  Age                   253680 non-null  float64\n",
      " 20  Education             253680 non-null  float64\n",
      " 21  Income                253680 non-null  float64\n",
      "dtypes: float64(22)\n",
      "memory usage: 42.6 MB\n",
      "None\n"
     ]
    }
   ],
   "source": [
    "print(data.df.info())"
   ]
  },
  {
   "cell_type": "code",
   "execution_count": 9,
   "metadata": {},
   "outputs": [],
   "source": [
    "outcome = 'Diabetes_012'\n",
    "predictors = list(data.df.columns)\n",
    "predictors.remove(outcome)"
   ]
  },
  {
   "cell_type": "code",
   "execution_count": 10,
   "metadata": {},
   "outputs": [],
   "source": [
    "label_encoders = {}\n",
    "for column in predictors:\n",
    "    if data.df[column].dtype == 'object':\n",
    "        le = LabelEncoder()\n",
    "        data.df[column] = le.fit_transform(data.df[column])\n",
    "        label_encoders[column] = le"
   ]
  },
  {
   "cell_type": "code",
   "execution_count": 11,
   "metadata": {},
   "outputs": [],
   "source": [
    "scaler = StandardScaler()\n",
    "data.df[predictors] = scaler.fit_transform(data.df[predictors])"
   ]
  },
  {
   "cell_type": "code",
   "execution_count": 12,
   "metadata": {},
   "outputs": [
    {
     "name": "stdout",
     "output_type": "stream",
     "text": [
      "-----------------------------------------------------------------\n",
      "k = 3\n",
      "1) Предсказание: 2.0; Вероятности:[0.33333333 0.         0.66666667]\n",
      "2) Предсказание: 0.0; Вероятности:[1. 0. 0.]\n",
      "3) Предсказание: 0.0; Вероятности:[1. 0. 0.]\n",
      "4) Предсказание: 0.0; Вероятности:[0.66666667 0.         0.33333333]\n",
      "5) Предсказание: 0.0; Вероятности:[1. 0. 0.]\n",
      "-----------------------------------------------------------------\n",
      "k = 5\n",
      "1) Предсказание: 2.0; Вероятности:[0.2 0.2 0.6]\n",
      "2) Предсказание: 0.0; Вероятности:[1. 0. 0.]\n",
      "3) Предсказание: 0.0; Вероятности:[0.6 0.2 0.2]\n",
      "4) Предсказание: 2.0; Вероятности:[0.4 0.  0.6]\n",
      "5) Предсказание: 0.0; Вероятности:[1. 0. 0.]\n",
      "-----------------------------------------------------------------\n",
      "k = 7\n",
      "1) Предсказание: 2.0; Вероятности:[0.14285714 0.14285714 0.71428571]\n",
      "2) Предсказание: 0.0; Вероятности:[0.85714286 0.         0.14285714]\n",
      "3) Предсказание: 0.0; Вероятности:[0.42857143 0.14285714 0.42857143]\n",
      "4) Предсказание: 0.0; Вероятности:[0.57142857 0.         0.42857143]\n",
      "5) Предсказание: 0.0; Вероятности:[1. 0. 0.]\n",
      "-----------------------------------------------------------------\n",
      "k = 9\n",
      "1) Предсказание: 2.0; Вероятности:[0.22222222 0.11111111 0.66666667]\n",
      "2) Предсказание: 0.0; Вероятности:[0.88888889 0.         0.11111111]\n",
      "3) Предсказание: 0.0; Вероятности:[0.44444444 0.11111111 0.44444444]\n",
      "4) Предсказание: 0.0; Вероятности:[0.66666667 0.         0.33333333]\n",
      "5) Предсказание: 0.0; Вероятности:[1. 0. 0.]\n",
      "-----------------------------------------------------------------\n",
      "k = 11\n",
      "1) Предсказание: 2.0; Вероятности:[0.27272727 0.09090909 0.63636364]\n",
      "2) Предсказание: 0.0; Вероятности:[0.90909091 0.         0.09090909]\n",
      "3) Предсказание: 0.0; Вероятности:[0.45454545 0.09090909 0.45454545]\n",
      "4) Предсказание: 0.0; Вероятности:[0.72727273 0.         0.27272727]\n",
      "5) Предсказание: 0.0; Вероятности:[1. 0. 0.]\n",
      "-----------------------------------------------------------------\n"
     ]
    }
   ],
   "source": [
    "x = data.df[predictors]\n",
    "y = data.df[outcome]\n",
    "\n",
    "print('-' * 65)\n",
    "for k in range(3, 12, 2):\n",
    "  kNN = KNeighborsClassifier(n_neighbors=k)\n",
    "  kNN.fit(x, y)\n",
    "\n",
    "  print('k =', k)\n",
    "  for num_string in range(5):\n",
    "    new_record = data.df.loc[num_string:num_string, predictors]\n",
    "\n",
    "    prediction = kNN.predict(new_record)\n",
    "    probabilities = kNN.predict_proba(new_record)\n",
    "\n",
    "    print(f'{num_string + 1}) Предсказание: {prediction[0]}; Вероятности:{probabilities[0]}')\n",
    "  print('-' * 65)"
   ]
  }
 ],
 "metadata": {
  "kernelspec": {
   "display_name": ".venv",
   "language": "python",
   "name": "python3"
  },
  "language_info": {
   "codemirror_mode": {
    "name": "ipython",
    "version": 3
   },
   "file_extension": ".py",
   "mimetype": "text/x-python",
   "name": "python",
   "nbconvert_exporter": "python",
   "pygments_lexer": "ipython3",
   "version": "3.12.6"
  }
 },
 "nbformat": 4,
 "nbformat_minor": 2
}
